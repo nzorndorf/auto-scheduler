{
 "cells": [
  {
   "cell_type": "code",
   "execution_count": null,
   "metadata": {},
   "outputs": [
    {
     "name": "stdout",
     "output_type": "stream",
     "text": [
      "{'job_ids': ['job_1', 'job_2', 'job_3', 'job_4', 'job_5', 'job_6', 'job_7', 'job_8', 'job_9', 'job_10', 'job_11'], 'resource_ids': ['tech_1', 'tech_2', 'tech_3'], 'date_range': ['2024-12-24', '2024-12-28']}\n"
     ]
    }
   ],
   "source": [
    "import json\n",
    "from datetime import datetime, timedelta\n",
    "\n",
    "# define resource class\n",
    "## should have fields resource_id\n",
    "\n",
    "class Resource():\n",
    "    def __init__(self, resource_id, date_range):\n",
    "        self.resource_id = resource_id\n",
    "        self.schedule = {date:None for date in date_range}    # instance variable unique to each instance\n",
    "\n",
    "    def print_schedule(self):\n",
    "        \"\"\"Custom print function to display the resource schedule.\"\"\"\n",
    "        print(f\"Schedule for Resource {self.resource_id}:\")\n",
    "        for date, job in self.schedule.items():\n",
    "            job_display = job if job else \"No job assigned\"\n",
    "            print(f\"{date}: {job_display}\")\n",
    "\n",
    "    def __repr__(self):\n",
    "        \"\"\"\n",
    "        Define how the object is represented when output directly.\n",
    "        \n",
    "        Returns:\n",
    "            str: A string representation of the Resource object.\n",
    "        \"\"\"\n",
    "        return f\"Resource(resource_id='{self.resource_id}', schedule={self.schedule})\"\n",
    "\n",
    "# define job class \n",
    "## should have fields job_id, date, resource_id\n",
    "class Job():\n",
    "    def __init__(self, job_id):\n",
    "        self.job_id = job_id\n",
    "        self.assigned = False\n",
    "        self.assigned_resource = None\n",
    "\n",
    "        \n",
    "def create_date_list(start_date_str, end_date_str):\n",
    "    \"\"\"\n",
    "    Generate a list of dates from start_date to end_date, inclusive.\n",
    "\n",
    "    Args:\n",
    "        start_date (datetime): The starting date.\n",
    "        end_date (datetime): The ending date.\n",
    "\n",
    "    Returns:\n",
    "        list: A list of datetime.date objects from start_date to end_date.\n",
    "    \"\"\"\n",
    "    start_date = datetime.strptime(start_date_str, \"%Y-%m-%d\").date()\n",
    "    end_date = datetime.strptime(end_date_str, \"%Y-%m-%d\").date()\n",
    "    \n",
    "    date_list = []\n",
    "    current_date = start_date\n",
    "    while current_date <= end_date:\n",
    "        date_list.append(current_date)\n",
    "        current_date += timedelta(days=1)\n",
    "    return [datetime.strftime(date, '%Y-%m-%d') for date in date_list]\n",
    "\n",
    "\n",
    "\n",
    "if __name__ == \"__main__\":\n",
    "\n",
    "    # input\n",
    "    ## load the json into a variable \n",
    "    f = open('test.json')\n",
    "    json_file = json.load(f)\n",
    "    print(json_file)\n",
    "    start_date_str = json_file['date_range'][0]\n",
    "    end_date_str = json_file['date_range'][1]\n",
    "    date_range = create_date_list(start_date_str, end_date_str)\n",
    "\n",
    "    resources = [Resource(resource_id, date_range) for resource_id in json_file['resource_ids']]\n",
    "    jobs = [Job(job_id) for job_id in json_file['job_ids']]\n",
    "\n",
    "    for date in date_range:\n",
    "        for job in jobs:\n",
    "            if job.assigned == True:\n",
    "                continue\n",
    "            for resource in resources:\n",
    "                if resource.schedule[date] is None:\n",
    "                    resource.schedule[date] = job.job_id\n",
    "                    job.assigned = True\n",
    "                    job.assigned_resource = resource.resource_id\n",
    "                    break\n",
    "\n",
    "    ## iterate through resources and jobs and create a list\n",
    "    ## generate list of dates based on input json date_range field \n",
    "    \n",
    "    # setup resources \n",
    "    ## for each resource create a schedule based on the list of dates we generated earlier \n",
    "    ## the schedule should just be a "
   ]
  },
  {
   "cell_type": "code",
   "execution_count": 61,
   "metadata": {},
   "outputs": [
    {
     "name": "stdout",
     "output_type": "stream",
     "text": [
      "Schedule for Resource tech_1:\n",
      "2024-12-24: job_1\n",
      "2024-12-25: job_4\n",
      "2024-12-26: job_7\n",
      "2024-12-27: job_10\n",
      "2024-12-28: No job assigned\n",
      "Schedule for Resource tech_2:\n",
      "2024-12-24: job_2\n",
      "2024-12-25: job_5\n",
      "2024-12-26: job_8\n",
      "2024-12-27: job_11\n",
      "2024-12-28: No job assigned\n",
      "Schedule for Resource tech_3:\n",
      "2024-12-24: job_3\n",
      "2024-12-25: job_6\n",
      "2024-12-26: job_9\n",
      "2024-12-27: No job assigned\n",
      "2024-12-28: No job assigned\n"
     ]
    }
   ],
   "source": [
    "for resource in resources:\n",
    "    resource.print_schedule()"
   ]
  },
  {
   "cell_type": "code",
   "execution_count": null,
   "metadata": {},
   "outputs": [],
   "source": []
  }
 ],
 "metadata": {
  "kernelspec": {
   "display_name": "base",
   "language": "python",
   "name": "python3"
  },
  "language_info": {
   "codemirror_mode": {
    "name": "ipython",
    "version": 3
   },
   "file_extension": ".py",
   "mimetype": "text/x-python",
   "name": "python",
   "nbconvert_exporter": "python",
   "pygments_lexer": "ipython3",
   "version": "3.12.7"
  }
 },
 "nbformat": 4,
 "nbformat_minor": 2
}
